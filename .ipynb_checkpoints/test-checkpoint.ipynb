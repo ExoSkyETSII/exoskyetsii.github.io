{
 "cells": [
  {
   "cell_type": "code",
   "execution_count": null,
   "metadata": {
    "vscode": {
     "languageId": "plaintext"
    }
   },
   "outputs": [],
   "source": [
    "import json\n",
    "\n",
    "# Función para unir los nombres de las estrellas con sus coordenadas\n",
    "def unir_estrellas_con_coordenadas(nombres, coordenadas):\n",
    "    resultado = {}\n",
    "\n",
    "    # Recorremos los nombres de las estrellas\n",
    "    for estrella in nombres:\n",
    "        if estrella in coordenadas:  # Si la estrella tiene coordenadas\n",
    "            resultado[estrella] = {\n",
    "                \"nombre\": nombres[estrella],\n",
    "                \"coordenadas\": coordenadas[estrella]\n",
    "            }\n",
    "\n",
    "    return resultado\n",
    "\n",
    "# Función para cargar los datos desde un archivo JSON\n",
    "def cargar_json(filename):\n",
    "    with open(filename, 'r', encoding='utf-8') as f:\n",
    "        return json.load(f)\n",
    "\n",
    "# Función para guardar el resultado en un archivo JSON\n",
    "def guardar_json(data, filename):\n",
    "    with open(filename, 'w', encoding='utf-8') as f:\n",
    "        json.dump(data, f, ensure_ascii=False, indent=4)\n",
    "\n",
    "# Cargar los datos de los archivos JSON\n",
    "nombres_estrellas = cargar_json('nombres_estrellas.json')\n",
    "coordenadas_estrellas = cargar_json('coordenadas_estrellas.json')\n",
    "\n",
    "# Unir los nombres de las estrellas con sus coordenadas\n",
    "resultado = unir_estrellas_con_coordenadas(nombres_estrellas, coordenadas_estrellas)\n",
    "\n",
    "# Guardar el resultado en un nuevo archivo JSON\n",
    "guardar_json(resultado, 'estrellas_unidas.json')\n",
    "\n",
    "print(f\"Archivo 'estrellas_unidas.json' generado correctamente.\")\n"
   ]
  },
  {
   "cell_type": "code",
   "execution_count": null,
   "metadata": {
    "vscode": {
     "languageId": "plaintext"
    }
   },
   "outputs": [],
   "source": [
    "nombres_mag_6 = cargar_json(names_11_Umi_B_6.json);\n",
    "coord_ mag_6 = cargar_json(distances_11_Umi_B_6.json);"
   ]
  }
 ],
 "metadata": {
  "language_info": {
   "name": "python"
  }
 },
 "nbformat": 4,
 "nbformat_minor": 2
}
