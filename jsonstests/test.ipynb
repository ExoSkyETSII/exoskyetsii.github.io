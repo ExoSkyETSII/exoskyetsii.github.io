{
 "cells": [
  {
   "cell_type": "code",
   "execution_count": 8,
   "metadata": {},
   "outputs": [
    {
     "name": "stdout",
     "output_type": "stream",
     "text": [
      "Fichero JSON combinado creado: resultado.json\n"
     ]
    }
   ],
   "source": [
    "import json\n",
    "\n",
    "# Cargar los ficheros JSON\n",
    "with open('distances_11_Umi_B_6.json', 'r') as f:\n",
    "    coordenadas = json.load(f)\n",
    "\n",
    "with open('name_11_Umi_B_6.json', 'r') as f:\n",
    "    nombres = json.load(f)\n",
    "\n",
    "# Combinar coordenadas y nombres\n",
    "resultado = []\n",
    "for i in range(min(len(coordenadas), len(nombres))):\n",
    "    resultado.append({'nombre': nombres[i], 'coordenadas': coordenadas[i]})\n",
    "#magnitud 7\n",
    "with open('distances_11_Umi_B_7.json', 'r') as f:\n",
    "    coordenadas = json.load(f)\n",
    "\n",
    "with open('name_11_Umi_B_7.json', 'r') as f:\n",
    "    nombres = json.load(f)\n",
    "for i in range(min(len(coordenadas), len(nombres))):\n",
    "    resultado.append({'nombre': nombres[i], 'coordenadas': coordenadas[i]})\n",
    "#magnitud 8\n",
    "\n",
    "with open('distances_11_Umi_B_8.json', 'r') as f:\n",
    "    coordenadas = json.load(f)\n",
    "\n",
    "with open('name_11_Umi_B_8.json', 'r') as f:\n",
    "    nombres = json.load(f)\n",
    "for i in range(min(len(coordenadas), len(nombres))):\n",
    "    resultado.append({'nombre': nombres[i], 'coordenadas': coordenadas[i]})\n",
    "    #magnitud 9\n",
    "with open('distances_11_Umi_B_9.json', 'r') as f:\n",
    "    coordenadas = json.load(f)\n",
    "\n",
    "with open('name_11_Umi_B_9.json', 'r') as f:\n",
    "    nombres = json.load(f)\n",
    "for i in range(min(len(coordenadas), len(nombres))):\n",
    "    resultado.append({'nombre': nombres[i], 'coordenadas': coordenadas[i]})\n",
    "\n",
    "# Guardar el resultado en un nuevo fichero JSON\n",
    "with open('resultado.json', 'w') as f:\n",
    "    json.dump(resultado, f, indent=4)\n",
    "\n",
    "print(\"Fichero JSON combinado creado: resultado.json\")\n"
   ]
  },
  {
   "cell_type": "code",
   "execution_count": null,
   "metadata": {},
   "outputs": [],
   "source": []
  }
 ],
 "metadata": {
  "kernelspec": {
   "display_name": "Python 3",
   "language": "python",
   "name": "python3"
  },
  "language_info": {
   "codemirror_mode": {
    "name": "ipython",
    "version": 3
   },
   "file_extension": ".py",
   "mimetype": "text/x-python",
   "name": "python",
   "nbconvert_exporter": "python",
   "pygments_lexer": "ipython3",
   "version": "3.12.7"
  }
 },
 "nbformat": 4,
 "nbformat_minor": 2
}
